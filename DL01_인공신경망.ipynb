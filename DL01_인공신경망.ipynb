{
  "nbformat": 4,
  "nbformat_minor": 0,
  "metadata": {
    "colab": {
      "provenance": [],
      "authorship_tag": "ABX9TyNrBw3qx+P8UF1Y6quaVGKS",
      "include_colab_link": true
    },
    "kernelspec": {
      "name": "python3",
      "display_name": "Python 3"
    },
    "language_info": {
      "name": "python"
    }
  },
  "cells": [
    {
      "cell_type": "markdown",
      "metadata": {
        "id": "view-in-github",
        "colab_type": "text"
      },
      "source": [
        "<a href=\"https://colab.research.google.com/github/Jaehwi-So/DeepLearning_Study/blob/main/DL01_%EC%9D%B8%EA%B3%B5%EC%8B%A0%EA%B2%BD%EB%A7%9D.ipynb\" target=\"_parent\"><img src=\"https://colab.research.google.com/assets/colab-badge.svg\" alt=\"Open In Colab\"/></a>"
      ]
    },
    {
      "cell_type": "code",
      "execution_count": 52,
      "metadata": {
        "id": "eaOckWOzFthQ"
      },
      "outputs": [],
      "source": [
        "import numpy as np\n",
        "\n",
        "class SimpleMLP:\n",
        "    # 활성화 함수\n",
        "    def relu(self, x):\n",
        "        return np.maximum(0, x)\n",
        "\n",
        "    def linear(self, x):\n",
        "        return x\n",
        "\n",
        "\n",
        "    # 입력값의 차원, Hidden layer의 개수, 출력값의 차원을 기반으로 Weight와 Bias를 생성하고 초기화\n",
        "    def __init__(self, input_size, hidden_size, output_size):\n",
        "        self.hidden_W = np.random.randn(input_size, hidden_size) * 0.01\n",
        "        self.hidden_b = np.zeros((1, hidden_size))\n",
        "        self.output_W = np.random.randn(hidden_size, output_size) * 0.01\n",
        "        self.output_b = np.zeros((1, output_size))\n",
        "\n",
        "\n",
        "    # Forward Propagation\n",
        "    def forward(self, X):\n",
        "        self.hidden_Z = np.dot(X, self.hidden_W) + self.hidden_b # 은닉층의 입력 Z : 가중합(입력과 가중치의 내적에 편향을 더한다)\n",
        "        self.hidden_A = self.relu(self.hidden_Z) # 은닉층의 출력 A : ReLu 활성 함수 적용\n",
        "        self.output_Z = np.dot(self.hidden_A, self.output_W) + self.output_b # 출력층의 입력 Z : 가중합(은닉층의 출력과 가중치의 내적에 편향을 더한다)\n",
        "        self.output_A = self.linear(self.output_Z) # 출력층의 출력 A : Linear 활성 함수 적용\n",
        "        return self.output_A\n",
        "\n",
        "    # Backward Propagation\n",
        "    def backward(self, X, y, output, learning_rate):\n",
        "        m = y.shape[0]\n",
        "\n",
        "        # 출력층의 Gradient 계산 : Loss에 대한 출력의 Gradient 계산\n",
        "        d_oZ = output - y.reshape(-1, 1)\n",
        "\n",
        "        # 출력층 가중치 Gradient 계산 : 출력층의 Gradient와 (이전 Layer에서 들어온)은닉층의 출력(A)을 사용하여 출력층의 가중치를 갱신하기 위한 Gradient를 계산한다\n",
        "        d_oW = (1/m) * np.dot(self.hidden_A.T, d_oZ)\n",
        "        d_ob = (1/m) * np.sum(d_oZ, axis=0, keepdims=True)\n",
        "\n",
        "        # 은닉층의 Gradient 계산\n",
        "        d_hA = np.dot(d_oZ, self.output_W.T) # 출력층의 그래디언트를 은닉층의 출력에 대한 그래디언트로 변환\n",
        "        d_hZ = d_hA * (self.hidden_Z > 0).astype(float)  # ReLU의 미분\n",
        "\n",
        "        # 은닉층의 가중치 Gradient 계산 : 은닉층의 Gradient와 (이전 Layer에서 들어온)입력층의 출력을 사용하여 은닉층의 가중치를 갱신하기 위한 Gradient를 계산한다.\n",
        "        d_hW = (1/m) * np.dot(X.T, d_hZ)\n",
        "        d_hb = (1/m) * np.sum(d_hZ, axis=0, keepdims=True)\n",
        "\n",
        "        # 역전파를 통해 구한 Gradient를 통해 가중치와 편향을 갱신한다.\n",
        "        self.hidden_W -= learning_rate * d_hW\n",
        "        self.hidden_b -= learning_rate * d_hb\n",
        "        self.output_W -= learning_rate * d_oW\n",
        "        self.output_b -= learning_rate * d_ob\n",
        "\n",
        "\n",
        "    # MLP 학습\n",
        "    def train(self, X, y, epochs, learning_rate):\n",
        "        for epoch in range(epochs):\n",
        "            output = self.forward(X) # 1. Forward Propagation\n",
        "            loss = np.mean((output - y.reshape(-1, 1)) ** 2) # 2. Loss 계산\n",
        "            self.backward(X, y, output, learning_rate) # 3. Backward Propagation\n",
        "            if epoch % 10 == 0:\n",
        "              print(f\"Epoch {epoch}, Loss: {loss}\") # 4. epochs만큼 반복\n",
        "\n",
        "    def predict(self, X):\n",
        "        return self.forward(X)\n"
      ]
    },
    {
      "cell_type": "code",
      "source": [
        "from sklearn.datasets import load_diabetes\n",
        "from sklearn.preprocessing import StandardScaler\n",
        "from sklearn.model_selection import train_test_split\n",
        "\n",
        "# 데이터 로드 및 전처리\n",
        "diabetes = load_diabetes()\n",
        "X = diabetes.data\n",
        "y = diabetes.target\n",
        "\n",
        "# 데이터 스케일링 (특성 표준화)\n",
        "scaler = StandardScaler()\n",
        "X = scaler.fit_transform(X)\n",
        "\n",
        "# 데이터셋을 훈련 세트와 테스트 세트로 분리\n",
        "X_train, X_test, y_train, y_test = train_test_split(X, y, test_size=0.2, random_state=42)\n",
        "\n",
        "# 모델 초기화 및 학습\n",
        "input_size = X_train.shape[1]\n",
        "hidden_size = 10\n",
        "output_size = 1\n",
        "\n",
        "mlp = SimpleMLP(input_size, hidden_size, output_size)\n",
        "mlp.train(X_train, y_train, epochs=300, learning_rate=0.001)\n",
        "\n",
        "# 예측 및 성능 평가\n",
        "predictions = mlp.predict(X_test)\n",
        "mse = np.mean((predictions.flatten() - y_test) ** 2)\n",
        "print(f\"Test MSE: {mse}\")"
      ],
      "metadata": {
        "colab": {
          "base_uri": "https://localhost:8080/"
        },
        "id": "pJfNM-qSF2yk",
        "outputId": "ec6f7f96-09e9-4b77-865f-3339a586736f"
      },
      "execution_count": 53,
      "outputs": [
        {
          "output_type": "stream",
          "name": "stdout",
          "text": [
            "Epoch 0, Loss: 29711.2862650617\n",
            "Epoch 10, Loss: 29237.525418560024\n",
            "Epoch 20, Loss: 28562.886510520086\n",
            "Epoch 30, Loss: 21413.230581915846\n",
            "Epoch 40, Loss: 8793.256977391542\n",
            "Epoch 50, Loss: 5850.951975848452\n",
            "Epoch 60, Loss: 3225.2907439447113\n",
            "Epoch 70, Loss: 2894.409444978212\n",
            "Epoch 80, Loss: 2877.0781729440178\n",
            "Epoch 90, Loss: 2871.206963478034\n",
            "Epoch 100, Loss: 2867.330704542642\n",
            "Epoch 110, Loss: 2863.7487121485074\n",
            "Epoch 120, Loss: 2860.312657080264\n",
            "Epoch 130, Loss: 2857.4028471887987\n",
            "Epoch 140, Loss: 2854.793149776095\n",
            "Epoch 150, Loss: 2852.3170884268065\n",
            "Epoch 160, Loss: 2849.8978937607126\n",
            "Epoch 170, Loss: 2847.5430914665026\n",
            "Epoch 180, Loss: 2845.125914529291\n",
            "Epoch 190, Loss: 2842.714855728913\n",
            "Epoch 200, Loss: 2840.4368772490825\n",
            "Epoch 210, Loss: 2838.2586783932643\n",
            "Epoch 220, Loss: 2836.185954170785\n",
            "Epoch 230, Loss: 2834.171671055218\n",
            "Epoch 240, Loss: 2832.2775768387737\n",
            "Epoch 250, Loss: 2830.372609236236\n",
            "Epoch 260, Loss: 2828.446024777999\n",
            "Epoch 270, Loss: 2826.4406772245547\n",
            "Epoch 280, Loss: 2824.391404678861\n",
            "Epoch 290, Loss: 2822.4436035672843\n",
            "Test MSE: 2705.985753882129\n"
          ]
        }
      ]
    }
  ]
}